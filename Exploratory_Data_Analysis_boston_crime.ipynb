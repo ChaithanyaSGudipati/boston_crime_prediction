{
  "nbformat": 4,
  "nbformat_minor": 0,
  "metadata": {
    "colab": {
      "provenance": []
    },
    "kernelspec": {
      "name": "python3",
      "display_name": "Python 3"
    },
    "language_info": {
      "name": "python"
    }
  },
  "cells": [
    {
      "cell_type": "code",
      "source": [
        "!pip install geopy"
      ],
      "metadata": {
        "colab": {
          "base_uri": "https://localhost:8080/"
        },
        "id": "jqrG7Jd-nU0A",
        "outputId": "c6308aea-092e-489e-9184-3cba89bfce7b"
      },
      "execution_count": null,
      "outputs": [
        {
          "output_type": "stream",
          "name": "stdout",
          "text": [
            "Looking in indexes: https://pypi.org/simple, https://us-python.pkg.dev/colab-wheels/public/simple/\n",
            "Requirement already satisfied: geopy in /usr/local/lib/python3.9/dist-packages (2.3.0)\n",
            "Requirement already satisfied: geographiclib<3,>=1.52 in /usr/local/lib/python3.9/dist-packages (from geopy) (2.0)\n"
          ]
        }
      ]
    },
    {
      "cell_type": "code",
      "execution_count": null,
      "metadata": {
        "id": "4yRMfOyVmHT-"
      },
      "outputs": [],
      "source": [
        "import pandas as pd\n",
        "import numpy as np\n",
        "import seaborn as sns\n",
        "import matplotlib.pyplot as plt\n",
        "import folium\n",
        "import math\n",
        "import sys\n",
        "import os\n",
        "from geopy.geocoders import Nominatim\n",
        "from folium import Choropleth,Circle,Marker\n",
        "from folium.plugins import HeatMap, MarkerCluster"
      ]
    },
    {
      "cell_type": "code",
      "source": [
        "from google.colab import drive\n",
        "drive.mount('/content/drive')"
      ],
      "metadata": {
        "colab": {
          "base_uri": "https://localhost:8080/"
        },
        "id": "9VUMX3gpnsGt",
        "outputId": "f775c7df-d589-498e-c455-c558b4a77545"
      },
      "execution_count": null,
      "outputs": [
        {
          "output_type": "stream",
          "name": "stdout",
          "text": [
            "Mounted at /content/drive\n"
          ]
        }
      ]
    },
    {
      "cell_type": "code",
      "source": [
        "## Path where all the crime report files are availab;e\n",
        "folder_path = r'/content/drive/MyDrive/Boston_crime'\n",
        "\n",
        "# Change the current working directory as the above folder path\n",
        "os.chdir(folder_path)\n",
        "\n",
        "files=os.listdir()\n",
        "\n",
        "files"
      ],
      "metadata": {
        "colab": {
          "base_uri": "https://localhost:8080/"
        },
        "id": "hMzjCroCoGoc",
        "outputId": "a3cef0fc-0b1c-41f9-ab46-b80fe938d5de"
      },
      "execution_count": null,
      "outputs": [
        {
          "output_type": "execute_result",
          "data": {
            "text/plain": [
              "['crime_report_2015.csv',\n",
              " 'crime_report_2016.csv',\n",
              " 'crime_report_2017.csv',\n",
              " 'crime_report_2018.csv',\n",
              " 'crime_report_2019.csv',\n",
              " 'crime_report_2020.csv',\n",
              " 'crime_report_2021.csv',\n",
              " 'crime_report_2022.csv',\n",
              " 'crime-incident-reports-2015.csv',\n",
              " 'crime-incident-reports-2016.csv',\n",
              " 'crime-incident-reports-2017.csv',\n",
              " 'crime-incident-reports-2018.csv',\n",
              " 'crime-incident-reports-2019.csv',\n",
              " 'crime-incident-reports-2020.csv',\n",
              " 'crime-incident-reports-2022.csv',\n",
              " 'rmsoffensecodes.xlsx',\n",
              " 'crime_report_2023.csv',\n",
              " 'crime_reports_cleaned.csv']"
            ]
          },
          "metadata": {},
          "execution_count": 6
        }
      ]
    },
    {
      "cell_type": "code",
      "source": [
        "data = pd.read_csv(\"crime_reports_cleaned.csv\")\n",
        "data.head()"
      ],
      "metadata": {
        "colab": {
          "base_uri": "https://localhost:8080/",
          "height": 704
        },
        "id": "bJShyijfoL3z",
        "outputId": "3b537601-1fcf-42a3-944b-78c198fe05ae"
      },
      "execution_count": null,
      "outputs": [
        {
          "output_type": "execute_result",
          "data": {
            "text/plain": [
              "  INCIDENT_NUMBER  OFFENSE_CODE  SHOOTING     OCCURRED_ON_DATE  YEAR  MONTH  \\\n",
              "0       192074613           100         1  2019-09-16 23:46:00  2019      9   \n",
              "1      I182101462           301         0  2018-12-16 17:30:00  2018     12   \n",
              "2       192076520           400         0  2019-09-22 21:50:00  2019      9   \n",
              "3       192066401           413         0  2019-08-22 16:00:00  2019      8   \n",
              "4       192037802           423         0  2019-05-20 15:30:00  2019      5   \n",
              "\n",
              "  DAY_OF_WEEK  HOUR                                  LOCATION  LATITUDE  \\\n",
              "0      Monday    23  (42.334529988231175, -71.08950599859743)  42.33453   \n",
              "1      Sunday    17  (42.334529988231175, -71.08950599859743)  42.33453   \n",
              "2      Sunday    21  (42.334529988231175, -71.08950599859743)  42.33453   \n",
              "3    Thursday    16  (42.334529988231175, -71.08950599859743)  42.33453   \n",
              "4      Monday    15  (42.334529988231175, -71.08950599859743)  42.33453   \n",
              "\n",
              "   LONGITUDE                                OFFENSE_DESCRIPTION  \\\n",
              "0 -71.089506                MIGRATED REPORT - CRIMINAL HOMICIDE   \n",
              "1 -71.089506                                   ROBBERY - STREET   \n",
              "2 -71.089506  MIGRATED REPORT - AGGRAVATED ASSAULT/AGGRAVATE...   \n",
              "3 -71.089506                     ASSAULT - AGGRAVATED - BATTERY   \n",
              "4 -71.089506                               ASSAULT - AGGRAVATED   \n",
              "\n",
              "   OFFENSE_CODE_GROUP                                            ADDRESS  \\\n",
              "0            HOMICIDE  {'road': 'Ruggles Street', 'suburb': 'South En...   \n",
              "1             ROBBERY  {'road': 'Ruggles Street', 'suburb': 'South En...   \n",
              "2             ROBBERY  {'road': 'Ruggles Street', 'suburb': 'South En...   \n",
              "3  AGGRAVATED ASSAULT  {'road': 'Ruggles Street', 'suburb': 'South En...   \n",
              "4  AGGRAVATED ASSAULT  {'road': 'Ruggles Street', 'suburb': 'South En...   \n",
              "\n",
              "             ROAD NEIGHBOURHOOD     SUBURB    CITY          COUNTY  \n",
              "0  Ruggles Street           NaN  South End  Boston  Suffolk County  \n",
              "1  Ruggles Street           NaN  South End  Boston  Suffolk County  \n",
              "2  Ruggles Street           NaN  South End  Boston  Suffolk County  \n",
              "3  Ruggles Street           NaN  South End  Boston  Suffolk County  \n",
              "4  Ruggles Street           NaN  South End  Boston  Suffolk County  "
            ],
            "text/html": [
              "\n",
              "  <div id=\"df-bab01d65-0589-4e05-ac91-0bad2a132fc6\">\n",
              "    <div class=\"colab-df-container\">\n",
              "      <div>\n",
              "<style scoped>\n",
              "    .dataframe tbody tr th:only-of-type {\n",
              "        vertical-align: middle;\n",
              "    }\n",
              "\n",
              "    .dataframe tbody tr th {\n",
              "        vertical-align: top;\n",
              "    }\n",
              "\n",
              "    .dataframe thead th {\n",
              "        text-align: right;\n",
              "    }\n",
              "</style>\n",
              "<table border=\"1\" class=\"dataframe\">\n",
              "  <thead>\n",
              "    <tr style=\"text-align: right;\">\n",
              "      <th></th>\n",
              "      <th>INCIDENT_NUMBER</th>\n",
              "      <th>OFFENSE_CODE</th>\n",
              "      <th>SHOOTING</th>\n",
              "      <th>OCCURRED_ON_DATE</th>\n",
              "      <th>YEAR</th>\n",
              "      <th>MONTH</th>\n",
              "      <th>DAY_OF_WEEK</th>\n",
              "      <th>HOUR</th>\n",
              "      <th>LOCATION</th>\n",
              "      <th>LATITUDE</th>\n",
              "      <th>LONGITUDE</th>\n",
              "      <th>OFFENSE_DESCRIPTION</th>\n",
              "      <th>OFFENSE_CODE_GROUP</th>\n",
              "      <th>ADDRESS</th>\n",
              "      <th>ROAD</th>\n",
              "      <th>NEIGHBOURHOOD</th>\n",
              "      <th>SUBURB</th>\n",
              "      <th>CITY</th>\n",
              "      <th>COUNTY</th>\n",
              "    </tr>\n",
              "  </thead>\n",
              "  <tbody>\n",
              "    <tr>\n",
              "      <th>0</th>\n",
              "      <td>192074613</td>\n",
              "      <td>100</td>\n",
              "      <td>1</td>\n",
              "      <td>2019-09-16 23:46:00</td>\n",
              "      <td>2019</td>\n",
              "      <td>9</td>\n",
              "      <td>Monday</td>\n",
              "      <td>23</td>\n",
              "      <td>(42.334529988231175, -71.08950599859743)</td>\n",
              "      <td>42.33453</td>\n",
              "      <td>-71.089506</td>\n",
              "      <td>MIGRATED REPORT - CRIMINAL HOMICIDE</td>\n",
              "      <td>HOMICIDE</td>\n",
              "      <td>{'road': 'Ruggles Street', 'suburb': 'South En...</td>\n",
              "      <td>Ruggles Street</td>\n",
              "      <td>NaN</td>\n",
              "      <td>South End</td>\n",
              "      <td>Boston</td>\n",
              "      <td>Suffolk County</td>\n",
              "    </tr>\n",
              "    <tr>\n",
              "      <th>1</th>\n",
              "      <td>I182101462</td>\n",
              "      <td>301</td>\n",
              "      <td>0</td>\n",
              "      <td>2018-12-16 17:30:00</td>\n",
              "      <td>2018</td>\n",
              "      <td>12</td>\n",
              "      <td>Sunday</td>\n",
              "      <td>17</td>\n",
              "      <td>(42.334529988231175, -71.08950599859743)</td>\n",
              "      <td>42.33453</td>\n",
              "      <td>-71.089506</td>\n",
              "      <td>ROBBERY - STREET</td>\n",
              "      <td>ROBBERY</td>\n",
              "      <td>{'road': 'Ruggles Street', 'suburb': 'South En...</td>\n",
              "      <td>Ruggles Street</td>\n",
              "      <td>NaN</td>\n",
              "      <td>South End</td>\n",
              "      <td>Boston</td>\n",
              "      <td>Suffolk County</td>\n",
              "    </tr>\n",
              "    <tr>\n",
              "      <th>2</th>\n",
              "      <td>192076520</td>\n",
              "      <td>400</td>\n",
              "      <td>0</td>\n",
              "      <td>2019-09-22 21:50:00</td>\n",
              "      <td>2019</td>\n",
              "      <td>9</td>\n",
              "      <td>Sunday</td>\n",
              "      <td>21</td>\n",
              "      <td>(42.334529988231175, -71.08950599859743)</td>\n",
              "      <td>42.33453</td>\n",
              "      <td>-71.089506</td>\n",
              "      <td>MIGRATED REPORT - AGGRAVATED ASSAULT/AGGRAVATE...</td>\n",
              "      <td>ROBBERY</td>\n",
              "      <td>{'road': 'Ruggles Street', 'suburb': 'South En...</td>\n",
              "      <td>Ruggles Street</td>\n",
              "      <td>NaN</td>\n",
              "      <td>South End</td>\n",
              "      <td>Boston</td>\n",
              "      <td>Suffolk County</td>\n",
              "    </tr>\n",
              "    <tr>\n",
              "      <th>3</th>\n",
              "      <td>192066401</td>\n",
              "      <td>413</td>\n",
              "      <td>0</td>\n",
              "      <td>2019-08-22 16:00:00</td>\n",
              "      <td>2019</td>\n",
              "      <td>8</td>\n",
              "      <td>Thursday</td>\n",
              "      <td>16</td>\n",
              "      <td>(42.334529988231175, -71.08950599859743)</td>\n",
              "      <td>42.33453</td>\n",
              "      <td>-71.089506</td>\n",
              "      <td>ASSAULT - AGGRAVATED - BATTERY</td>\n",
              "      <td>AGGRAVATED ASSAULT</td>\n",
              "      <td>{'road': 'Ruggles Street', 'suburb': 'South En...</td>\n",
              "      <td>Ruggles Street</td>\n",
              "      <td>NaN</td>\n",
              "      <td>South End</td>\n",
              "      <td>Boston</td>\n",
              "      <td>Suffolk County</td>\n",
              "    </tr>\n",
              "    <tr>\n",
              "      <th>4</th>\n",
              "      <td>192037802</td>\n",
              "      <td>423</td>\n",
              "      <td>0</td>\n",
              "      <td>2019-05-20 15:30:00</td>\n",
              "      <td>2019</td>\n",
              "      <td>5</td>\n",
              "      <td>Monday</td>\n",
              "      <td>15</td>\n",
              "      <td>(42.334529988231175, -71.08950599859743)</td>\n",
              "      <td>42.33453</td>\n",
              "      <td>-71.089506</td>\n",
              "      <td>ASSAULT - AGGRAVATED</td>\n",
              "      <td>AGGRAVATED ASSAULT</td>\n",
              "      <td>{'road': 'Ruggles Street', 'suburb': 'South En...</td>\n",
              "      <td>Ruggles Street</td>\n",
              "      <td>NaN</td>\n",
              "      <td>South End</td>\n",
              "      <td>Boston</td>\n",
              "      <td>Suffolk County</td>\n",
              "    </tr>\n",
              "  </tbody>\n",
              "</table>\n",
              "</div>\n",
              "      <button class=\"colab-df-convert\" onclick=\"convertToInteractive('df-bab01d65-0589-4e05-ac91-0bad2a132fc6')\"\n",
              "              title=\"Convert this dataframe to an interactive table.\"\n",
              "              style=\"display:none;\">\n",
              "        \n",
              "  <svg xmlns=\"http://www.w3.org/2000/svg\" height=\"24px\"viewBox=\"0 0 24 24\"\n",
              "       width=\"24px\">\n",
              "    <path d=\"M0 0h24v24H0V0z\" fill=\"none\"/>\n",
              "    <path d=\"M18.56 5.44l.94 2.06.94-2.06 2.06-.94-2.06-.94-.94-2.06-.94 2.06-2.06.94zm-11 1L8.5 8.5l.94-2.06 2.06-.94-2.06-.94L8.5 2.5l-.94 2.06-2.06.94zm10 10l.94 2.06.94-2.06 2.06-.94-2.06-.94-.94-2.06-.94 2.06-2.06.94z\"/><path d=\"M17.41 7.96l-1.37-1.37c-.4-.4-.92-.59-1.43-.59-.52 0-1.04.2-1.43.59L10.3 9.45l-7.72 7.72c-.78.78-.78 2.05 0 2.83L4 21.41c.39.39.9.59 1.41.59.51 0 1.02-.2 1.41-.59l7.78-7.78 2.81-2.81c.8-.78.8-2.07 0-2.86zM5.41 20L4 18.59l7.72-7.72 1.47 1.35L5.41 20z\"/>\n",
              "  </svg>\n",
              "      </button>\n",
              "      \n",
              "  <style>\n",
              "    .colab-df-container {\n",
              "      display:flex;\n",
              "      flex-wrap:wrap;\n",
              "      gap: 12px;\n",
              "    }\n",
              "\n",
              "    .colab-df-convert {\n",
              "      background-color: #E8F0FE;\n",
              "      border: none;\n",
              "      border-radius: 50%;\n",
              "      cursor: pointer;\n",
              "      display: none;\n",
              "      fill: #1967D2;\n",
              "      height: 32px;\n",
              "      padding: 0 0 0 0;\n",
              "      width: 32px;\n",
              "    }\n",
              "\n",
              "    .colab-df-convert:hover {\n",
              "      background-color: #E2EBFA;\n",
              "      box-shadow: 0px 1px 2px rgba(60, 64, 67, 0.3), 0px 1px 3px 1px rgba(60, 64, 67, 0.15);\n",
              "      fill: #174EA6;\n",
              "    }\n",
              "\n",
              "    [theme=dark] .colab-df-convert {\n",
              "      background-color: #3B4455;\n",
              "      fill: #D2E3FC;\n",
              "    }\n",
              "\n",
              "    [theme=dark] .colab-df-convert:hover {\n",
              "      background-color: #434B5C;\n",
              "      box-shadow: 0px 1px 3px 1px rgba(0, 0, 0, 0.15);\n",
              "      filter: drop-shadow(0px 1px 2px rgba(0, 0, 0, 0.3));\n",
              "      fill: #FFFFFF;\n",
              "    }\n",
              "  </style>\n",
              "\n",
              "      <script>\n",
              "        const buttonEl =\n",
              "          document.querySelector('#df-bab01d65-0589-4e05-ac91-0bad2a132fc6 button.colab-df-convert');\n",
              "        buttonEl.style.display =\n",
              "          google.colab.kernel.accessAllowed ? 'block' : 'none';\n",
              "\n",
              "        async function convertToInteractive(key) {\n",
              "          const element = document.querySelector('#df-bab01d65-0589-4e05-ac91-0bad2a132fc6');\n",
              "          const dataTable =\n",
              "            await google.colab.kernel.invokeFunction('convertToInteractive',\n",
              "                                                     [key], {});\n",
              "          if (!dataTable) return;\n",
              "\n",
              "          const docLinkHtml = 'Like what you see? Visit the ' +\n",
              "            '<a target=\"_blank\" href=https://colab.research.google.com/notebooks/data_table.ipynb>data table notebook</a>'\n",
              "            + ' to learn more about interactive tables.';\n",
              "          element.innerHTML = '';\n",
              "          dataTable['output_type'] = 'display_data';\n",
              "          await google.colab.output.renderOutput(dataTable, element);\n",
              "          const docLink = document.createElement('div');\n",
              "          docLink.innerHTML = docLinkHtml;\n",
              "          element.appendChild(docLink);\n",
              "        }\n",
              "      </script>\n",
              "    </div>\n",
              "  </div>\n",
              "  "
            ]
          },
          "metadata": {},
          "execution_count": 8
        }
      ]
    },
    {
      "cell_type": "code",
      "source": [
        "violentList = ['MIGRATED REPORT - CRIMINAL HOMICIDE',\n",
        "       'BURGLARY - RESIDENTIAL - FORCE', 'ASSAULT - SIMPLE', 'VANDALISM',\n",
        "       'MURDER, NON-NEGLIGIENT MANSLAUGHTER', 'ROBBERY - STREET',\n",
        "       'ROBBERY - BANK', 'ROBBERY - OTHER',\n",
        "       'MIGRATED REPORT - AGGRAVATED ASSAULT/AGGRAVATED ASSAULT & BATTERY',\n",
        "       'ASSAULT - AGGRAVATED - BATTERY', 'ASSAULT - AGGRAVATED',\n",
        "       'MIGRATED REPORT - BURGLARY/BREAKING AND ENTERING',\n",
        "       'BURGLARY - RESIDENTIAL - ATTEMPT',\n",
        "       'BURGLARY - RESIDENTIAL - NO FORCE',\n",
        "       'BURGLARY - COMMERICAL - FORCE', 'BURGLARY - OTHER - NO FORCE',\n",
        "       'MIGRATED REPORT - OTHER LARCENY', 'LARCENY PICK-POCKET',\n",
        "       'LARCENY PURSE SNATCH - NO FORCE ', 'LARCENY SHOPLIFTING',\n",
        "       'LARCENY THEFT OF BICYCLE', 'LARCENY THEFT FROM BUILDING',\n",
        "       'LARCENY ALL OTHERS', 'BREAKING AND ENTERING (B&E) MOTOR VEHICLE',\n",
        "       'MIGRATED REPORT - LARCENY FROM MV', 'ASSAULT SIMPLE - BATTERY',\n",
        "       'GRAFFITI', 'WEAPON - FIREARM - CARRYING / POSSESSING, ETC',\n",
        "       'WEAPON - OTHER - CARRYING / POSSESSING, ETC',\n",
        "       'WEAPON - FIREARM - OTHER VIOLATION', 'FUGITIVE FROM JUSTICE',\n",
        "       'FIRE REPORT - HOUSE, BUILDING, ETC.', 'WARRANT ARREST',\n",
        "       'WARRANT ARREST - OUTSIDE OF BOSTON WARRANT',\n",
        "       'FIRE REPORT - CAR, BRUSH, ETC.', 'MISSING PERSON - LOCATED',\n",
        "       'MISSING PERSON - NOT REPORTED - LOCATED',\n",
        "       'MIGRATED REPORT - ROBBERY', 'ROBBERY - COMMERCIAL',\n",
        "       'ROBBERY - CAR JACKING', 'CHILD ENDANGERMENT (NO ASSAULT)',\n",
        "       'CHILD ABANDONMENT (NO ASSAULT)', 'CHILD ENDANGERMENT',\n",
        "       'MIGRATED REPORT - INVESTIGATE PROPERTY',\n",
        "       'FIRE REPORT/ALARM - FALSE', 'ROBBERY - HOME INVASION', 'ARSON',\n",
        "       'MIGRATED REPORT - WEAPONS VIOLATION', 'BOMB THREAT',\n",
        "       'BURGLARY - COMMERICAL - ATTEMPT', 'HOME INVASION', 'STALKING',\n",
        "       'BURGLARY - OTHER - FORCE',\n",
        "       'WEAPON - FIREARM - SALE / TRAFFICKING',\n",
        "       'MANSLAUGHTER - NON-VEHICLE - NEGLIGENCE',\n",
        "       'MANSLAUGHTER - VEHICLE - NEGLIGENCE',\n",
        "       'BURGLARY - COMMERICAL - NO FORCE',\n",
        "       'HUMAN TRAFFICKING - COMMERCIAL SEX ACTS',\n",
        "       'LARCENY THEFT FROM COIN-OP MACHINE',\n",
        "       'EXPLOSIVES - TURNED IN OR FOUND', 'CHINS',\n",
        "       'CONTRIBUTING TO DELINQUENCY OF MINOR',\n",
        "       'MANSLAUGHTER - TRAIN ETC. VICTIM NON-NEGLIGENCE',\n",
        "       'ROBBERY - UNARMED - RESIDENCE', 'EXPLOSIVES - POSSESSION OR USE',\n",
        "       'LARCENY IN A BUILDING UNDER $50', 'KILLING OF FELON BY POLICE',\n",
        "       'PRISONER - SUICIDE / SUICIDE ATTEMPT', 'ROBBERY - KNIFE - STREET',\n",
        "       'B&E NON-RESIDENCE NIGHT - FORCE',\n",
        "       'MIGRATED REPORT - COUNTERFEITING/FORGERY',\n",
        "       'ROBBERY ATTEMPT - KNIFE - BANK', 'LARCENY SHOPLIFTING UNDER $50',\n",
        "       'B&E NON-RESIDENCE NIGHT - ATTEMPT FORCE', 'JUSTIFIABLE HOMICIDE',\n",
        "       'BURGLARY - OTHER - ATTEMPT', 'ROBBERY - UNARMED - BUSINESS',\n",
        "       'ROBBERY - UNARMED - CHAIN STORE', 'BIOLOGICAL THREATS',\n",
        "       'ASSAULT & BATTERY D/W - OTHER', 'A&B ON POLICE OFFICER',\n",
        "       'ASSAULT & BATTERY D/W - KNIFE',\n",
        "       'PRISONER ESCAPE / ESCAPE & RECAPTURE',\n",
        "       'LARCENY IN A BUILDING $50 TO $199', 'LARCENY OTHER $50 TO $199',\n",
        "       'LARCENY SHOPLIFTING $50 TO $199',\n",
        "       'B&E NON-RESIDENCE DAY - NO PROP TAKEN',\n",
        "       'ROBBERY - UNARMED - STREET', 'LARCENY OTHER UNDER $50',\n",
        "       'ASSAULT D/W - KNIFE ON POLICE OFFICER',\n",
        "       'A&B HANDS, FEET, ETC.  - MED. ATTENTION REQ.',\n",
        "       'PRISONER ATTEMPT TO RESCUE',\n",
        "       'B&E RESIDENCE NIGHT - ATTEMPT FORCE',\n",
        "       'B&E RESIDENCE DAY - NO PROP TAKEN']"
      ],
      "metadata": {
        "id": "4yk3n4vDoUdb"
      },
      "execution_count": null,
      "outputs": []
    },
    {
      "cell_type": "code",
      "source": [
        "data['VIOLENT'] = np.where(data['OFFENSE_DESCRIPTION'].isin(violentList),1,0)\n",
        "data[\"VIOLENT\"] = data[\"VIOLENT\"].astype(\"category\")\n"
      ],
      "metadata": {
        "id": "yhyjfATVoqqH"
      },
      "execution_count": null,
      "outputs": []
    },
    {
      "cell_type": "code",
      "source": [
        "fig = sns.countplot(data=data, x = \"VIOLENT\")\n",
        "fig = fig.get_figure()"
      ],
      "metadata": {
        "colab": {
          "base_uri": "https://localhost:8080/",
          "height": 279
        },
        "id": "uAj82kT3pcGE",
        "outputId": "e09187d4-9716-49e7-963c-702f6409e369"
      },
      "execution_count": null,
      "outputs": [
        {
          "output_type": "display_data",
          "data": {
            "text/plain": [
              "<Figure size 432x288 with 1 Axes>"
            ],
            "image/png": "[encoded data removed]"
          },
          "metadata": {
            "needs_background": "light"
          }
        }
      ]
    },
    {
      "cell_type": "code",
      "source": [
        "fig.savefig(\"Count_Violent_vs_nonviolent.png\") "
      ],
      "metadata": {
        "id": "17vY3AeIpkCc"
      },
      "execution_count": null,
      "outputs": []
    },
    {
      "cell_type": "markdown",
      "source": [
        "## #Crimes by Category"
      ],
      "metadata": {
        "id": "aNTnkE87tbO0"
      }
    },
    {
      "cell_type": "code",
      "source": [
        "sns.set(rc={'figure.figsize':(12, 10)})\n",
        "\n",
        "fig = sns.countplot(y = \"OFFENSE_CODE_GROUP\",\n",
        "              data = data, \n",
        "              order = data.OFFENSE_CODE_GROUP.value_counts().iloc[:10].index)\n",
        "fig = fig.get_figure()\n",
        "fig.savefig(\"Crime_Categories.png\") "
      ],
      "metadata": {
        "id": "Avfed3hetfCV",
        "outputId": "5f7cde2e-f45f-4cb6-9465-74a271db7cbc",
        "colab": {
          "base_uri": "https://localhost:8080/",
          "height": 611
        }
      },
      "execution_count": null,
      "outputs": [
        {
          "output_type": "display_data",
          "data": {
            "text/plain": [
              "<Figure size 864x720 with 1 Axes>"
            ],
            "image/png": "[encoded data removed]"
          },
          "metadata": {}
        }
      ]
    },
    {
      "cell_type": "code",
      "source": [
        "sns.set(rc={'figure.figsize':(12, 10)})\n",
        "\n",
        "fig = sns.countplot(y = \"OFFENSE_CODE_GROUP\",\n",
        "              data = data, \n",
        "              order = data.OFFENSE_CODE_GROUP.value_counts().iloc[:10].index)\n",
        "fig = fig.get_figure()\n",
        "fig.savefig(\"Type_of_Crimes_Countplot.png\") "
      ],
      "metadata": {
        "id": "WXn_F5wmtaP4"
      },
      "execution_count": null,
      "outputs": []
    },
    {
      "cell_type": "code",
      "source": [
        "crime_by_monYear = data.groupby(['MONTH', 'YEAR', 'VIOLENT']).size().reset_index(name='counts')\n",
        "count_monYear = data.groupby(['MONTH', 'YEAR']).count().reset_index()\n"
      ],
      "metadata": {
        "id": "yf4sIGuDpB0m"
      },
      "execution_count": null,
      "outputs": []
    },
    {
      "cell_type": "code",
      "source": [
        "count_monYear"
      ],
      "metadata": {
        "colab": {
          "base_uri": "https://localhost:8080/",
          "height": 487
        },
        "id": "DRLB_WazpOel",
        "outputId": "737fa102-b0c7-4dd9-8000-25e0321d2dfb"
      },
      "execution_count": null,
      "outputs": [
        {
          "output_type": "execute_result",
          "data": {
            "text/plain": [
              "    MONTH  YEAR  INCIDENT_NUMBER  OFFENSE_CODE  SHOOTING  OCCURRED_ON_DATE  \\\n",
              "0       1  2016             1347          1347      1347              1347   \n",
              "1       1  2017             1468          1468      1468              1468   \n",
              "2       1  2018             1518          1518      1518              1518   \n",
              "3       1  2019             2434          2434      2434              2434   \n",
              "4       1  2020             1747          1747      1747              1747   \n",
              "..    ...   ...              ...           ...       ...               ...   \n",
              "65     12  2016             1525          1525      1525              1525   \n",
              "66     12  2017             1456          1456      1456              1456   \n",
              "67     12  2018             1471          1471      1471              1471   \n",
              "68     12  2019              800           800       800               800   \n",
              "69     12  2020             1279          1279      1279              1279   \n",
              "\n",
              "    DAY_OF_WEEK  HOUR  LOCATION  LATITUDE  LONGITUDE  OFFENSE_DESCRIPTION  \\\n",
              "0          1347  1347      1347      1347       1347                 1347   \n",
              "1          1468  1468      1468      1468       1468                 1468   \n",
              "2          1518  1518      1518      1518       1518                 1518   \n",
              "3          2434  2434      2434      2434       2434                 2434   \n",
              "4          1747  1747      1747      1747       1747                 1747   \n",
              "..          ...   ...       ...       ...        ...                  ...   \n",
              "65         1525  1525      1525      1525       1525                 1525   \n",
              "66         1456  1456      1456      1456       1456                 1456   \n",
              "67         1471  1471      1471      1471       1471                 1471   \n",
              "68          800   800       800       800        800                  800   \n",
              "69         1279  1279      1279      1279       1279                 1279   \n",
              "\n",
              "    OFFENSE_CODE_GROUP  ADDRESS  ROAD  NEIGHBOURHOOD  SUBURB  CITY  COUNTY  \\\n",
              "0                 1347     1347  1347            579    1300  1347    1347   \n",
              "1                 1468     1468  1468            570    1422  1468    1468   \n",
              "2                 1518     1518  1518            588    1477  1518    1518   \n",
              "3                 2434     2434  2434           1068    2392  2434    2434   \n",
              "4                 1747     1747  1747           1014    1568  1747    1747   \n",
              "..                 ...      ...   ...            ...     ...   ...     ...   \n",
              "65                1525     1525  1525            666    1467  1525    1525   \n",
              "66                1456     1456  1456            572    1414  1456    1456   \n",
              "67                1471     1471  1471            564    1427  1471    1471   \n",
              "68                 800      800   800            643     636   800     800   \n",
              "69                1279     1279  1279            685    1193  1279    1279   \n",
              "\n",
              "    VIOLENT  \n",
              "0      1347  \n",
              "1      1468  \n",
              "2      1518  \n",
              "3      2434  \n",
              "4      1747  \n",
              "..      ...  \n",
              "65     1525  \n",
              "66     1456  \n",
              "67     1471  \n",
              "68      800  \n",
              "69     1279  \n",
              "\n",
              "[70 rows x 20 columns]"
            ],
            "text/html": [
              "\n",
              "  <div id=\"df-183b6164-933a-4c69-b166-0efa609ff65e\">\n",
              "    <div class=\"colab-df-container\">\n",
              "      <div>\n",
              "<style scoped>\n",
              "    .dataframe tbody tr th:only-of-type {\n",
              "        vertical-align: middle;\n",
              "    }\n",
              "\n",
              "    .dataframe tbody tr th {\n",
              "        vertical-align: top;\n",
              "    }\n",
              "\n",
              "    .dataframe thead th {\n",
              "        text-align: right;\n",
              "    }\n",
              "</style>\n",
              "<table border=\"1\" class=\"dataframe\">\n",
              "  <thead>\n",
              "    <tr style=\"text-align: right;\">\n",
              "      <th></th>\n",
              "      <th>MONTH</th>\n",
              "      <th>YEAR</th>\n",
              "      <th>INCIDENT_NUMBER</th>\n",
              "      <th>OFFENSE_CODE</th>\n",
              "      <th>SHOOTING</th>\n",
              "      <th>OCCURRED_ON_DATE</th>\n",
              "      <th>DAY_OF_WEEK</th>\n",
              "      <th>HOUR</th>\n",
              "      <th>LOCATION</th>\n",
              "      <th>LATITUDE</th>\n",
              "      <th>LONGITUDE</th>\n",
              "      <th>OFFENSE_DESCRIPTION</th>\n",
              "      <th>OFFENSE_CODE_GROUP</th>\n",
              "      <th>ADDRESS</th>\n",
              "      <th>ROAD</th>\n",
              "      <th>NEIGHBOURHOOD</th>\n",
              "      <th>SUBURB</th>\n",
              "      <th>CITY</th>\n",
              "      <th>COUNTY</th>\n",
              "      <th>VIOLENT</th>\n",
              "    </tr>\n",
              "  </thead>\n",
              "  <tbody>\n",
              "    <tr>\n",
              "      <th>0</th>\n",
              "      <td>1</td>\n",
              "      <td>2016</td>\n",
              "      <td>1347</td>\n",
              "      <td>1347</td>\n",
              "      <td>1347</td>\n",
              "      <td>1347</td>\n",
              "      <td>1347</td>\n",
              "      <td>1347</td>\n",
              "      <td>1347</td>\n",
              "      <td>1347</td>\n",
              "      <td>1347</td>\n",
              "      <td>1347</td>\n",
              "      <td>1347</td>\n",
              "      <td>1347</td>\n",
              "      <td>1347</td>\n",
              "      <td>579</td>\n",
              "      <td>1300</td>\n",
              "      <td>1347</td>\n",
              "      <td>1347</td>\n",
              "      <td>1347</td>\n",
              "    </tr>\n",
              "    <tr>\n",
              "      <th>1</th>\n",
              "      <td>1</td>\n",
              "      <td>2017</td>\n",
              "      <td>1468</td>\n",
              "      <td>1468</td>\n",
              "      <td>1468</td>\n",
              "      <td>1468</td>\n",
              "      <td>1468</td>\n",
              "      <td>1468</td>\n",
              "      <td>1468</td>\n",
              "      <td>1468</td>\n",
              "      <td>1468</td>\n",
              "      <td>1468</td>\n",
              "      <td>1468</td>\n",
              "      <td>1468</td>\n",
              "      <td>1468</td>\n",
              "      <td>570</td>\n",
              "      <td>1422</td>\n",
              "      <td>1468</td>\n",
              "      <td>1468</td>\n",
              "      <td>1468</td>\n",
              "    </tr>\n",
              "    <tr>\n",
              "      <th>2</th>\n",
              "      <td>1</td>\n",
              "      <td>2018</td>\n",
              "      <td>1518</td>\n",
              "      <td>1518</td>\n",
              "      <td>1518</td>\n",
              "      <td>1518</td>\n",
              "      <td>1518</td>\n",
              "      <td>1518</td>\n",
              "      <td>1518</td>\n",
              "      <td>1518</td>\n",
              "      <td>1518</td>\n",
              "      <td>1518</td>\n",
              "      <td>1518</td>\n",
              "      <td>1518</td>\n",
              "      <td>1518</td>\n",
              "      <td>588</td>\n",
              "      <td>1477</td>\n",
              "      <td>1518</td>\n",
              "      <td>1518</td>\n",
              "      <td>1518</td>\n",
              "    </tr>\n",
              "    <tr>\n",
              "      <th>3</th>\n",
              "      <td>1</td>\n",
              "      <td>2019</td>\n",
              "      <td>2434</td>\n",
              "      <td>2434</td>\n",
              "      <td>2434</td>\n",
              "      <td>2434</td>\n",
              "      <td>2434</td>\n",
              "      <td>2434</td>\n",
              "      <td>2434</td>\n",
              "      <td>2434</td>\n",
              "      <td>2434</td>\n",
              "      <td>2434</td>\n",
              "      <td>2434</td>\n",
              "      <td>2434</td>\n",
              "      <td>2434</td>\n",
              "      <td>1068</td>\n",
              "      <td>2392</td>\n",
              "      <td>2434</td>\n",
              "      <td>2434</td>\n",
              "      <td>2434</td>\n",
              "    </tr>\n",
              "    <tr>\n",
              "      <th>4</th>\n",
              "      <td>1</td>\n",
              "      <td>2020</td>\n",
              "      <td>1747</td>\n",
              "      <td>1747</td>\n",
              "      <td>1747</td>\n",
              "      <td>1747</td>\n",
              "      <td>1747</td>\n",
              "      <td>1747</td>\n",
              "      <td>1747</td>\n",
              "      <td>1747</td>\n",
              "      <td>1747</td>\n",
              "      <td>1747</td>\n",
              "      <td>1747</td>\n",
              "      <td>1747</td>\n",
              "      <td>1747</td>\n",
              "      <td>1014</td>\n",
              "      <td>1568</td>\n",
              "      <td>1747</td>\n",
              "      <td>1747</td>\n",
              "      <td>1747</td>\n",
              "    </tr>\n",
              "    <tr>\n",
              "      <th>...</th>\n",
              "      <td>...</td>\n",
              "      <td>...</td>\n",
              "      <td>...</td>\n",
              "      <td>...</td>\n",
              "      <td>...</td>\n",
              "      <td>...</td>\n",
              "      <td>...</td>\n",
              "      <td>...</td>\n",
              "      <td>...</td>\n",
              "      <td>...</td>\n",
              "      <td>...</td>\n",
              "      <td>...</td>\n",
              "      <td>...</td>\n",
              "      <td>...</td>\n",
              "      <td>...</td>\n",
              "      <td>...</td>\n",
              "      <td>...</td>\n",
              "      <td>...</td>\n",
              "      <td>...</td>\n",
              "      <td>...</td>\n",
              "    </tr>\n",
              "    <tr>\n",
              "      <th>65</th>\n",
              "      <td>12</td>\n",
              "      <td>2016</td>\n",
              "      <td>1525</td>\n",
              "      <td>1525</td>\n",
              "      <td>1525</td>\n",
              "      <td>1525</td>\n",
              "      <td>1525</td>\n",
              "      <td>1525</td>\n",
              "      <td>1525</td>\n",
              "      <td>1525</td>\n",
              "      <td>1525</td>\n",
              "      <td>1525</td>\n",
              "      <td>1525</td>\n",
              "      <td>1525</td>\n",
              "      <td>1525</td>\n",
              "      <td>666</td>\n",
              "      <td>1467</td>\n",
              "      <td>1525</td>\n",
              "      <td>1525</td>\n",
              "      <td>1525</td>\n",
              "    </tr>\n",
              "    <tr>\n",
              "      <th>66</th>\n",
              "      <td>12</td>\n",
              "      <td>2017</td>\n",
              "      <td>1456</td>\n",
              "      <td>1456</td>\n",
              "      <td>1456</td>\n",
              "      <td>1456</td>\n",
              "      <td>1456</td>\n",
              "      <td>1456</td>\n",
              "      <td>1456</td>\n",
              "      <td>1456</td>\n",
              "      <td>1456</td>\n",
              "      <td>1456</td>\n",
              "      <td>1456</td>\n",
              "      <td>1456</td>\n",
              "      <td>1456</td>\n",
              "      <td>572</td>\n",
              "      <td>1414</td>\n",
              "      <td>1456</td>\n",
              "      <td>1456</td>\n",
              "      <td>1456</td>\n",
              "    </tr>\n",
              "    <tr>\n",
              "      <th>67</th>\n",
              "      <td>12</td>\n",
              "      <td>2018</td>\n",
              "      <td>1471</td>\n",
              "      <td>1471</td>\n",
              "      <td>1471</td>\n",
              "      <td>1471</td>\n",
              "      <td>1471</td>\n",
              "      <td>1471</td>\n",
              "      <td>1471</td>\n",
              "      <td>1471</td>\n",
              "      <td>1471</td>\n",
              "      <td>1471</td>\n",
              "      <td>1471</td>\n",
              "      <td>1471</td>\n",
              "      <td>1471</td>\n",
              "      <td>564</td>\n",
              "      <td>1427</td>\n",
              "      <td>1471</td>\n",
              "      <td>1471</td>\n",
              "      <td>1471</td>\n",
              "    </tr>\n",
              "    <tr>\n",
              "      <th>68</th>\n",
              "      <td>12</td>\n",
              "      <td>2019</td>\n",
              "      <td>800</td>\n",
              "      <td>800</td>\n",
              "      <td>800</td>\n",
              "      <td>800</td>\n",
              "      <td>800</td>\n",
              "      <td>800</td>\n",
              "      <td>800</td>\n",
              "      <td>800</td>\n",
              "      <td>800</td>\n",
              "      <td>800</td>\n",
              "      <td>800</td>\n",
              "      <td>800</td>\n",
              "      <td>800</td>\n",
              "      <td>643</td>\n",
              "      <td>636</td>\n",
              "      <td>800</td>\n",
              "      <td>800</td>\n",
              "      <td>800</td>\n",
              "    </tr>\n",
              "    <tr>\n",
              "      <th>69</th>\n",
              "      <td>12</td>\n",
              "      <td>2020</td>\n",
              "      <td>1279</td>\n",
              "      <td>1279</td>\n",
              "      <td>1279</td>\n",
              "      <td>1279</td>\n",
              "      <td>1279</td>\n",
              "      <td>1279</td>\n",
              "      <td>1279</td>\n",
              "      <td>1279</td>\n",
              "      <td>1279</td>\n",
              "      <td>1279</td>\n",
              "      <td>1279</td>\n",
              "      <td>1279</td>\n",
              "      <td>1279</td>\n",
              "      <td>685</td>\n",
              "      <td>1193</td>\n",
              "      <td>1279</td>\n",
              "      <td>1279</td>\n",
              "      <td>1279</td>\n",
              "    </tr>\n",
              "  </tbody>\n",
              "</table>\n",
              "<p>70 rows × 20 columns</p>\n",
              "</div>\n",
              "      <button class=\"colab-df-convert\" onclick=\"convertToInteractive('df-183b6164-933a-4c69-b166-0efa609ff65e')\"\n",
              "              title=\"Convert this dataframe to an interactive table.\"\n",
              "              style=\"display:none;\">\n",
              "        \n",
              "  <svg xmlns=\"http://www.w3.org/2000/svg\" height=\"24px\"viewBox=\"0 0 24 24\"\n",
              "       width=\"24px\">\n",
              "    <path d=\"M0 0h24v24H0V0z\" fill=\"none\"/>\n",
              "    <path d=\"M18.56 5.44l.94 2.06.94-2.06 2.06-.94-2.06-.94-.94-2.06-.94 2.06-2.06.94zm-11 1L8.5 8.5l.94-2.06 2.06-.94-2.06-.94L8.5 2.5l-.94 2.06-2.06.94zm10 10l.94 2.06.94-2.06 2.06-.94-2.06-.94-.94-2.06-.94 2.06-2.06.94z\"/><path d=\"M17.41 7.96l-1.37-1.37c-.4-.4-.92-.59-1.43-.59-.52 0-1.04.2-1.43.59L10.3 9.45l-7.72 7.72c-.78.78-.78 2.05 0 2.83L4 21.41c.39.39.9.59 1.41.59.51 0 1.02-.2 1.41-.59l7.78-7.78 2.81-2.81c.8-.78.8-2.07 0-2.86zM5.41 20L4 18.59l7.72-7.72 1.47 1.35L5.41 20z\"/>\n",
              "  </svg>\n",
              "      </button>\n",
              "      \n",
              "  <style>\n",
              "    .colab-df-container {\n",
              "      display:flex;\n",
              "      flex-wrap:wrap;\n",
              "      gap: 12px;\n",
              "    }\n",
              "\n",
              "    .colab-df-convert {\n",
              "      background-color: #E8F0FE;\n",
              "      border: none;\n",
              "      border-radius: 50%;\n",
              "      cursor: pointer;\n",
              "      display: none;\n",
              "      fill: #1967D2;\n",
              "      height: 32px;\n",
              "      padding: 0 0 0 0;\n",
              "      width: 32px;\n",
              "    }\n",
              "\n",
              "    .colab-df-convert:hover {\n",
              "      background-color: #E2EBFA;\n",
              "      box-shadow: 0px 1px 2px rgba(60, 64, 67, 0.3), 0px 1px 3px 1px rgba(60, 64, 67, 0.15);\n",
              "      fill: #174EA6;\n",
              "    }\n",
              "\n",
              "    [theme=dark] .colab-df-convert {\n",
              "      background-color: #3B4455;\n",
              "      fill: #D2E3FC;\n",
              "    }\n",
              "\n",
              "    [theme=dark] .colab-df-convert:hover {\n",
              "      background-color: #434B5C;\n",
              "      box-shadow: 0px 1px 3px 1px rgba(0, 0, 0, 0.15);\n",
              "      filter: drop-shadow(0px 1px 2px rgba(0, 0, 0, 0.3));\n",
              "      fill: #FFFFFF;\n",
              "    }\n",
              "  </style>\n",
              "\n",
              "      <script>\n",
              "        const buttonEl =\n",
              "          document.querySelector('#df-183b6164-933a-4c69-b166-0efa609ff65e button.colab-df-convert');\n",
              "        buttonEl.style.display =\n",
              "          google.colab.kernel.accessAllowed ? 'block' : 'none';\n",
              "\n",
              "        async function convertToInteractive(key) {\n",
              "          const element = document.querySelector('#df-183b6164-933a-4c69-b166-0efa609ff65e');\n",
              "          const dataTable =\n",
              "            await google.colab.kernel.invokeFunction('convertToInteractive',\n",
              "                                                     [key], {});\n",
              "          if (!dataTable) return;\n",
              "\n",
              "          const docLinkHtml = 'Like what you see? Visit the ' +\n",
              "            '<a target=\"_blank\" href=https://colab.research.google.com/notebooks/data_table.ipynb>data table notebook</a>'\n",
              "            + ' to learn more about interactive tables.';\n",
              "          element.innerHTML = '';\n",
              "          dataTable['output_type'] = 'display_data';\n",
              "          await google.colab.output.renderOutput(dataTable, element);\n",
              "          const docLink = document.createElement('div');\n",
              "          docLink.innerHTML = docLinkHtml;\n",
              "          element.appendChild(docLink);\n",
              "        }\n",
              "      </script>\n",
              "    </div>\n",
              "  </div>\n",
              "  "
            ]
          },
          "metadata": {},
          "execution_count": 15
        }
      ]
    },
    {
      "cell_type": "markdown",
      "source": [
        "## HeatMaps of crimes for Boston from 2018-2021"
      ],
      "metadata": {
        "id": "ZzyXgkIjqy37"
      }
    },
    {
      "cell_type": "code",
      "source": [
        "heatMap_2018 = folium.Map(location = [42.32,-71.0589], tiles='cartodbpositron', zoom_start=12)\n",
        "\n",
        "data2018 = data[data[\"YEAR\"] == 2018]\n",
        "heat_data_2018 = [[row['LATITUDE'],row['LONGITUDE']] for index, row in data2018.iterrows()]\n",
        "\n",
        "HeatMap(data = heat_data_2018, radius = 10).add_to(heatMap_2018)"
      ],
      "metadata": {
        "colab": {
          "base_uri": "https://localhost:8080/"
        },
        "id": "i_FEKbA0qQmi",
        "outputId": "08ad3240-123f-4ec1-feb6-986818500a01"
      },
      "execution_count": null,
      "outputs": [
        {
          "output_type": "execute_result",
          "data": {
            "text/plain": [
              "<folium.plugins.heat_map.HeatMap at 0x7f697f1cf7c0>"
            ]
          },
          "metadata": {},
          "execution_count": 19
        }
      ]
    },
    {
      "cell_type": "code",
      "source": [
        "heatMap_2018.save('crime_y2018.html')"
      ],
      "metadata": {
        "id": "NPlMr233qSqc"
      },
      "execution_count": null,
      "outputs": []
    },
    {
      "cell_type": "code",
      "source": [
        "heatMap_2019 = folium.Map(location = [42.32,-71.0589], tiles='cartodbpositron', zoom_start=12)\n",
        "\n",
        "data2019 = data[data[\"YEAR\"] == 2019]\n",
        "heat_data_2019 = [[row['LATITUDE'],row['LONGITUDE']] for index, row in data2019.iterrows()]\n",
        "\n",
        "HeatMap(data = heat_data_2019, radius = 10).add_to(heatMap_2019)"
      ],
      "metadata": {
        "colab": {
          "base_uri": "https://localhost:8080/"
        },
        "id": "78pV_mcpqjMf",
        "outputId": "118c1344-80b9-4465-a6d4-19d99028d48e"
      },
      "execution_count": null,
      "outputs": [
        {
          "output_type": "execute_result",
          "data": {
            "text/plain": [
              "<folium.plugins.heat_map.HeatMap at 0x7f69817c57c0>"
            ]
          },
          "metadata": {},
          "execution_count": 21
        }
      ]
    },
    {
      "cell_type": "code",
      "source": [
        "heatMap_2019.save('crime_y2019.html')"
      ],
      "metadata": {
        "id": "aS1A4DfxqlIz"
      },
      "execution_count": null,
      "outputs": []
    },
    {
      "cell_type": "code",
      "source": [
        "heatMap_2020 = folium.Map(location = [42.32,-71.0589], tiles='cartodbpositron', zoom_start=12)\n",
        "\n",
        "data2020 = data[data[\"YEAR\"] == 2020]\n",
        "heat_data_2020 = [[row['LATITUDE'],row['LONGITUDE']] for index, row in data2020.iterrows()]\n",
        "\n",
        "HeatMap(data = heat_data_2020, radius = 10).add_to(heatMap_2020)"
      ],
      "metadata": {
        "colab": {
          "base_uri": "https://localhost:8080/"
        },
        "id": "PkHVucoLpVEz",
        "outputId": "f253a91d-3400-4840-bab0-f3a76a74c9a8"
      },
      "execution_count": null,
      "outputs": [
        {
          "output_type": "execute_result",
          "data": {
            "text/plain": [
              "<folium.plugins.heat_map.HeatMap at 0x7f69817b5d00>"
            ]
          },
          "metadata": {},
          "execution_count": 23
        }
      ]
    },
    {
      "cell_type": "code",
      "source": [
        "heatMap_2020.save('crime_y2020.html')"
      ],
      "metadata": {
        "id": "53TItddop4rI"
      },
      "execution_count": null,
      "outputs": []
    },
    {
      "cell_type": "code",
      "source": [
        "heatMap_2021 = folium.Map(location = [42.32,-71.0589], tiles='cartodbpositron', zoom_start=12)\n",
        "\n",
        "data2021 = data[data[\"YEAR\"] == 2021]\n",
        "heat_data_2021 = [[row['LATITUDE'],row['LONGITUDE']] for index, row in data2021.iterrows()]\n",
        "\n",
        "HeatMap(data = heat_data_2021, radius = 10).add_to(heatMap_2021)\n",
        "\n"
      ],
      "metadata": {
        "colab": {
          "base_uri": "https://localhost:8080/"
        },
        "id": "prN_-0M-p99h",
        "outputId": "03e3be3b-feda-418d-f8f4-d20b4fee8c00"
      },
      "execution_count": null,
      "outputs": [
        {
          "output_type": "execute_result",
          "data": {
            "text/plain": [
              "<folium.plugins.heat_map.HeatMap at 0x7f69816870d0>"
            ]
          },
          "metadata": {},
          "execution_count": 25
        }
      ]
    },
    {
      "cell_type": "code",
      "source": [
        "heatMap_2021.save('crime_y2021.html')"
      ],
      "metadata": {
        "id": "M1Cn0RHZqOXQ"
      },
      "execution_count": null,
      "outputs": []
    },
    {
      "cell_type": "markdown",
      "source": [
        "## Cluster Maps for crime in Boston from 2018-2021"
      ],
      "metadata": {
        "id": "s_nyXXxpsI83"
      }
    },
    {
      "cell_type": "code",
      "source": [
        "clusterMap_2018 = folium.Map(location=[42.32,-71.0589], tiles='cartodbpositron', zoom_start=13)\n",
        "\n",
        "mc = MarkerCluster()\n",
        "\n",
        "for idx, row in data2018.iterrows():\n",
        "    if not math.isnan(row['LONGITUDE']) and not math.isnan(row['LATITUDE']):\n",
        "        mc.add_child(Marker([row['LATITUDE'], row['LONGITUDE']]))\n",
        "\n",
        "clusterMap_2018.add_child(mc)"
      ],
      "metadata": {
        "id": "uKdv3OKRrnn_"
      },
      "execution_count": null,
      "outputs": []
    },
    {
      "cell_type": "code",
      "source": [
        "clusterMap_2018.save('crime_2020_clustermap.html')"
      ],
      "metadata": {
        "id": "ldrXwT95rs7b"
      },
      "execution_count": null,
      "outputs": []
    },
    {
      "cell_type": "code",
      "source": [
        "clusterMap_2019 = folium.Map(location=[42.32,-71.0589], tiles='cartodbpositron', zoom_start=13)\n",
        "\n",
        "mc = MarkerCluster()\n",
        "\n",
        "for idx, row in data2019.iterrows():\n",
        "    if not math.isnan(row['LONGITUDE']) and not math.isnan(row['LATITUDE']):\n",
        "        mc.add_child(Marker([row['LATITUDE'], row['LONGITUDE']]))\n",
        "\n",
        "clusterMap_2019.add_child(mc)"
      ],
      "metadata": {
        "id": "Vjv8rQD6rean"
      },
      "execution_count": null,
      "outputs": []
    },
    {
      "cell_type": "code",
      "source": [
        "clusterMap_2019.save('crime_2020_clustermap.html')"
      ],
      "metadata": {
        "id": "gQKmmNKIrb3o"
      },
      "execution_count": null,
      "outputs": []
    },
    {
      "cell_type": "code",
      "source": [
        "clusterMap_2020 = folium.Map(location=[42.32,-71.0589], tiles='cartodbpositron', zoom_start=13)\n",
        "\n",
        "mc = MarkerCluster()\n",
        "\n",
        "for idx, row in data2020.iterrows():\n",
        "    if not math.isnan(row['LONGITUDE']) and not math.isnan(row['LATITUDE']):\n",
        "        mc.add_child(Marker([row['LATITUDE'], row['LONGITUDE']]))\n",
        "\n",
        "clusterMap_2020.add_child(mc)\n",
        "\n"
      ],
      "metadata": {
        "id": "ubSFvs45rGng"
      },
      "execution_count": null,
      "outputs": []
    },
    {
      "cell_type": "code",
      "source": [
        "clusterMap_2020.save('crime_2020_clustermap.html')"
      ],
      "metadata": {
        "id": "4p8bN0FtrNSK"
      },
      "execution_count": null,
      "outputs": []
    },
    {
      "cell_type": "code",
      "source": [
        "clusterMap_2021 = folium.Map(location=[42.32,-71.0589], tiles='cartodbpositron', zoom_start=13)\n",
        "\n",
        "mc = MarkerCluster()\n",
        "\n",
        "for idx, row in data2021.iterrows():\n",
        "    if not math.isnan(row['LONGITUDE']) and not math.isnan(row['LATITUDE']):\n",
        "        mc.add_child(Marker([row['LATITUDE'], row['LONGITUDE']]))\n",
        "\n",
        "clusterMap_2021.add_child(mc)\n"
      ],
      "metadata": {
        "id": "z5JxXLParWHU"
      },
      "execution_count": null,
      "outputs": []
    },
    {
      "cell_type": "code",
      "source": [
        "clusterMap_2021.save('crime_2020_clustermap.html')"
      ],
      "metadata": {
        "id": "rASLA7etrX8G"
      },
      "execution_count": null,
      "outputs": []
    },
    {
      "cell_type": "markdown",
      "source": [
        "## Comparing violent and Non-violent crimes in 2020 and 2021"
      ],
      "metadata": {
        "id": "6LqRigTkseQl"
      }
    },
    {
      "cell_type": "code",
      "source": [
        "heatMap2020_violent = folium.Map(location=[42.32,-71.0589], tiles='cartodbpositron', zoom_start=12)\n",
        "\n",
        "data2020 = data[data[\"YEAR\"] == 2020]\n",
        "data2020_violent = data2020[data2020[\"VIOLENT\"] == 1]\n",
        "\n",
        "heat_data_2020_violent = [[row['LATITUDE'],row['LONGITUDE']] for index, row in data2020_violent.iterrows()]\n",
        "\n",
        "HeatMap(data = heat_data_2020_violent, radius = 10).add_to(heatMap2020_violent)\n",
        "\n",
        "heatMap2020_violent.save('violent_crime_2021_heatmap.html')"
      ],
      "metadata": {
        "id": "aBzLIh56smzf"
      },
      "execution_count": null,
      "outputs": []
    },
    {
      "cell_type": "code",
      "source": [
        "heatMap2021_violent = folium.Map(location=[42.32,-71.0589], tiles='cartodbpositron', zoom_start=12)\n",
        "\n",
        "data2021 = data[data[\"YEAR\"] == 2021]\n",
        "data2021_violent = data2021[data2021[\"VIOLENT\"] == 1]\n",
        "\n",
        "heat_data_2021_violent = [[row['LATITUDE'],row['LONGITUDE']] for index, row in data2021_violent.iterrows()]\n",
        "\n",
        "HeatMap(data = heat_data_2021_violent, radius = 10).add_to(heatMap2021_violent)\n",
        "\n",
        "heatMap2021_violent.save('violent_crime_2021_heatmap.html')"
      ],
      "metadata": {
        "id": "lx-QUpJfs52J"
      },
      "execution_count": null,
      "outputs": []
    }
  ]
}